{
 "cells": [
  {
   "cell_type": "code",
   "execution_count": 5,
   "metadata": {
    "collapsed": false
   },
   "outputs": [],
   "source": [
    "#key: 0 = smooth, 1 = bumpy\n",
    "features = [[150, 0],[130,0],[80,1],[87,1],[89,0],[94,1],[140,0],[100,0],[100,1],[98,0]]\n",
    "#key: 0 = apples, 1 = oranges\n",
    "labels = [0,0,1,1,1,1,0,0,1,0]\n",
    "\n",
    "class Classifier():\n",
    "    def fit(self, X, y):\n",
    "        self.X = X\n",
    "        self.Y = y\n",
    "    def predict(self, data):\n",
    "        predictions = []\n",
    "        for row in range(0,len(data)): \n",
    "            if data[row][0] >= 120 and data[row][1] == 0:\n",
    "                predictions.append(0)\n",
    "            else:\n",
    "                predictions.append(1)\n",
    "        return predictions\n"
   ]
  },
  {
   "cell_type": "code",
   "execution_count": 6,
   "metadata": {
    "collapsed": false
   },
   "outputs": [
    {
     "name": "stdout",
     "output_type": "stream",
     "text": [
      "[0, 1, 0, 0, 1, 1, 0]\n",
      "0.857142857143\n"
     ]
    }
   ],
   "source": [
    "from sklearn.metrics import accuracy_score\n",
    "\n",
    "X_test = [[140,0],[60,1],[130,0],[135,0],[95,1],[115,1],[126,0]]\n",
    "y_test = [0,1,0,0,1,0,0]\n",
    "\n",
    "my_classifier = Classifier()\n",
    "my_classifier.fit(features,labels)\n",
    "predictions = my_classifier.predict(X_test)\n",
    "\n",
    "print predictions\n",
    "\n",
    "print accuracy_score(y_test, predictions)"
   ]
  },
  {
   "cell_type": "code",
   "execution_count": null,
   "metadata": {
    "collapsed": true
   },
   "outputs": [],
   "source": []
  }
 ],
 "metadata": {
  "kernelspec": {
   "display_name": "Python 2",
   "language": "python",
   "name": "python2"
  },
  "language_info": {
   "codemirror_mode": {
    "name": "ipython",
    "version": 2
   },
   "file_extension": ".py",
   "mimetype": "text/x-python",
   "name": "python",
   "nbconvert_exporter": "python",
   "pygments_lexer": "ipython2",
   "version": "2.7.12"
  }
 },
 "nbformat": 4,
 "nbformat_minor": 1
}
