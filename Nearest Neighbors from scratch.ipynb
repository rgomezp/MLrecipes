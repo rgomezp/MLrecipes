{
 "cells": [
  {
   "cell_type": "code",
   "execution_count": 71,
   "metadata": {
    "collapsed": false
   },
   "outputs": [
    {
     "data": {
      "image/png": "[encoded data removed]",
      "text/plain": [
       "<matplotlib.figure.Figure at 0x7f17a465ea10>"
      ]
     },
     "metadata": {},
     "output_type": "display_data"
    },
    {
     "name": "stdout",
     "output_type": "stream",
     "text": [
      "red\n"
     ]
    }
   ],
   "source": [
    "from scipy.spatial import distance\n",
    "import matplotlib.pyplot as plt\n",
    "import numpy as np\n",
    "\n",
    "def euclidian(a,b):\n",
    "    return distance.euclidean(a,b)\n",
    "\n",
    "X_train = [[0,1],[1,5],[2,7],[-1,6],[2,8],[3,4],[5,1],[8,2],[-3,6],[-4,2]]\n",
    "\n",
    "X_train0 = [0,1,2,-1,2,3,5,8,-3,-4,9]\n",
    "X_train1 = [1,5,7,6,8,4,1,2,6,2,8]\n",
    "\n",
    "y_train = [0,1,1,1,1,0,0,0,1,1,0]\n",
    "\n",
    "plot = plt.scatter(X_train0,X_train1, c=y_train, alpha = .5, s = 80)\n",
    "plt.show()\n",
    "\n",
    "class NearestNeighbor():\n",
    "    def fit(self, Xx,Xy,y):\n",
    "        list = []\n",
    "        for i in range(len(Xx)):\n",
    "            temp = [Xx[i],Xy[i]]\n",
    "            list.append(temp)\n",
    "        \n",
    "        self.X_train = list\n",
    "        self.y = y\n",
    "        \n",
    "    def predict(self, point):\n",
    "        smallest_distance = self.distance(point,self.X_train[0])\n",
    "        index = 0\n",
    "        for i in range(len(self.X_train)):\n",
    "                dist = self.distance(point,self.X_train[i])\n",
    "                if(dist<smallest_distance):\n",
    "                        smallest_distance = dist\n",
    "                        index = i\n",
    "        if(self.y[index]==0):\n",
    "            return \"blue\"\n",
    "        elif(self.y[index]==1):\n",
    "            return \"red\"\n",
    "        else:\n",
    "            return \"error\"\n",
    "                \n",
    "    def distance(self, point, val):\n",
    "        dist = euclidian(point, val)\n",
    "        return dist\n",
    "        \n",
    "classifier = NearestNeighbor()\n",
    "classifier.fit(X_train0,X_train1,y_train)\n",
    "\n",
    "\n",
    "#Input point below to see whether it is likely blue or red\n",
    "print classifier.predict([0,4])\n",
    "            "
   ]
  },
  {
   "cell_type": "code",
   "execution_count": null,
   "metadata": {
    "collapsed": true
   },
   "outputs": [],
   "source": []
  }
 ],
 "metadata": {
  "kernelspec": {
   "display_name": "Python 2",
   "language": "python",
   "name": "python2"
  },
  "language_info": {
   "codemirror_mode": {
    "name": "ipython",
    "version": 2
   },
   "file_extension": ".py",
   "mimetype": "text/x-python",
   "name": "python",
   "nbconvert_exporter": "python",
   "pygments_lexer": "ipython2",
   "version": "2.7.12"
  }
 },
 "nbformat": 4,
 "nbformat_minor": 1
}
